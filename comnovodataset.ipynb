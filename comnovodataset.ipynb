{
 "cells": [
  {
   "cell_type": "code",
   "execution_count": 9,
   "metadata": {},
   "outputs": [],
   "source": [
    "import matplotlib.pyplot as plt\n",
    "import numpy as np\n",
    "import scipy as scipy\n",
    "from sklearn.ensemble import RandomForestClassifier\n",
    "from sklearn.metrics import accuracy_score, classification_report, confusion_matrix\n",
    "from sklearn.pipeline import make_pipeline\n",
    "from sklearn.preprocessing import FunctionTransformer\n",
    "from mne.io import concatenate_raws"
   ]
  },
  {
   "cell_type": "code",
   "execution_count": 10,
   "metadata": {},
   "outputs": [],
   "source": [
    "import mne\n",
    "from mne.datasets.sleep_physionet.age import fetch_data"
   ]
  },
  {
   "cell_type": "markdown",
   "metadata": {},
   "source": [
    "VAMOS USAR 4 pessoas para treinar o  modelo, 2 para teste"
   ]
  },
  {
   "cell_type": "markdown",
   "metadata": {},
   "source": [
    "**_Direito para tudo_** "
   ]
  },
  {
   "cell_type": "code",
   "execution_count": 14,
   "metadata": {},
   "outputs": [
    {
     "name": "stdout",
     "output_type": "stream",
     "text": [
      "Using default location ~/mne_data for PHYSIONET_SLEEP...\n"
     ]
    },
    {
     "name": "stderr",
     "output_type": "stream",
     "text": [
      "Downloading data from 'https://physionet.org/physiobank/database/sleep-edfx/sleep-cassette//SC4061E0-PSG.edf' to file '/Users/Bia/mne_data/physionet-sleep-data/SC4061E0-PSG.edf'.\n",
      "100%|█████████████████████████████████████| 50.5M/50.5M [00:00<00:00, 43.8GB/s]\n",
      "Downloading data from 'https://physionet.org/physiobank/database/sleep-edfx/sleep-cassette//SC4061EC-Hypnogram.edf' to file '/Users/Bia/mne_data/physionet-sleep-data/SC4061EC-Hypnogram.edf'.\n",
      "100%|█████████████████████████████████████| 2.62k/2.62k [00:00<00:00, 2.13MB/s]\n",
      "Downloading data from 'https://physionet.org/physiobank/database/sleep-edfx/sleep-cassette//SC4071E0-PSG.edf' to file '/Users/Bia/mne_data/physionet-sleep-data/SC4071E0-PSG.edf'.\n",
      "100%|█████████████████████████████████████| 51.3M/51.3M [00:00<00:00, 18.4GB/s]\n",
      "Downloading data from 'https://physionet.org/physiobank/database/sleep-edfx/sleep-cassette//SC4071EC-Hypnogram.edf' to file '/Users/Bia/mne_data/physionet-sleep-data/SC4071EC-Hypnogram.edf'.\n",
      "100%|█████████████████████████████████████| 3.63k/3.63k [00:00<00:00, 1.57MB/s]\n",
      "Downloading data from 'https://physionet.org/physiobank/database/sleep-edfx/sleep-cassette//SC4081E0-PSG.edf' to file '/Users/Bia/mne_data/physionet-sleep-data/SC4081E0-PSG.edf'.\n",
      "100%|█████████████████████████████████████| 51.0M/51.0M [00:00<00:00, 33.9GB/s]\n",
      "Downloading data from 'https://physionet.org/physiobank/database/sleep-edfx/sleep-cassette//SC4081EC-Hypnogram.edf' to file '/Users/Bia/mne_data/physionet-sleep-data/SC4081EC-Hypnogram.edf'.\n",
      "100%|█████████████████████████████████████| 4.31k/4.31k [00:00<00:00, 3.35MB/s]\n",
      "Downloading data from 'https://physionet.org/physiobank/database/sleep-edfx/sleep-cassette//SC4091E0-PSG.edf' to file '/Users/Bia/mne_data/physionet-sleep-data/SC4091E0-PSG.edf'.\n",
      "100%|█████████████████████████████████████| 49.8M/49.8M [00:00<00:00, 45.5GB/s]\n",
      "Downloading data from 'https://physionet.org/physiobank/database/sleep-edfx/sleep-cassette//SC4091EC-Hypnogram.edf' to file '/Users/Bia/mne_data/physionet-sleep-data/SC4091EC-Hypnogram.edf'.\n",
      "100%|█████████████████████████████████████| 4.47k/4.47k [00:00<00:00, 3.51MB/s]\n",
      "Downloading data from 'https://physionet.org/physiobank/database/sleep-edfx/sleep-cassette//SC4101E0-PSG.edf' to file '/Users/Bia/mne_data/physionet-sleep-data/SC4101E0-PSG.edf'.\n",
      " 92%|█████████████████████████████████▉   | 45.5M/49.6M [02:19<04:53, 14.0kB/s]"
     ]
    }
   ],
   "source": [
    "subjects_train =list(range(40)); subjects_train.remove(36)\n",
    "subjects_test = list(range(40, 82)); subjects_train.remove(39)\n",
    "sub_train =  fetch_data(subjects = subjects_train, recording=[1])\n",
    "sub_test =  fetch_data(subjects = subjects_test, recording=[1])"
   ]
  },
  {
   "cell_type": "markdown",
   "metadata": {},
   "source": [
    "Análise da qualidade dos dados, em raw\n"
   ]
  },
  {
   "cell_type": "code",
   "execution_count": null,
   "metadata": {},
   "outputs": [],
   "source": [
    "def signal_stage(subjects, sub):\n",
    "     # guarda todos os sinais originais\n",
    "    signal_EEG = [None] * len(subjects)\n",
    "    signal_EOG = [None] * len(subjects) # estes são os sinais que pretendemos, para cada utilizador\n",
    "    annot = [None] * len(subjects) #anotções dos sinais\n",
    "\n",
    "    events_id = {\n",
    "    \"Sleep stage W\": 1,\n",
    "    \"Sleep stage 1\": 2,\n",
    "    \"Sleep stage 2\": 3,\n",
    "    \"Sleep stage 3\": 4,\n",
    "    \"Sleep stage 4\": 5,\n",
    "    \"Sleep stage R\": 6}\n",
    "\n",
    "\n",
    "    for i in range(0, len(subjects)):\n",
    "        signal =  mne.io.read_raw_edf(\n",
    "            sub[i][0],\n",
    "            stim_channel=\"Event marker\",\n",
    "            infer_types=True,\n",
    "            preload=True,\n",
    "            verbose=\"error\",  # ignore issues with stored filter settings\n",
    "        )\n",
    "        a = signal.copy()\n",
    "        b = signal.copy()\n",
    "        signal_EEG[i] = a.pick([\"eeg\"]).load_data()\n",
    "        signal_EOG[i] = b.pick([\"eog\"]).load_data()\n",
    "\n",
    "        signal_EEG[i].set_eeg_reference(\"average\", projection=True)\n",
    "        annot[i] =  mne.read_annotations(sub[i][1])\n",
    "        #signal_EEG[i].hat(annot[i], emit_warning=False)\n",
    "        signal_EOG[i].set_annotations(annot[i], emit_warning=False)\n",
    "   \n",
    "    return(signal_EEG,signal_EOG , annot)"
   ]
  },
  {
   "cell_type": "code",
   "execution_count": null,
   "metadata": {},
   "outputs": [],
   "source": [
    "[EEG_train, EOG_train , Annot_train] = signal_stage(subjects_train, sub_train)\n",
    "[EEG_test, EOG_test , Annot_test] = signal_stage(subjects_test, sub_test)\n"
   ]
  },
  {
   "cell_type": "code",
   "execution_count": null,
   "metadata": {},
   "outputs": [],
   "source": [
    "EEG_train[1].info"
   ]
  },
  {
   "cell_type": "code",
   "execution_count": null,
   "metadata": {},
   "outputs": [],
   "source": [
    "EOG_train[1].info"
   ]
  },
  {
   "cell_type": "code",
   "execution_count": null,
   "metadata": {},
   "outputs": [],
   "source": [
    "def signal_representation (subjects, signal, annot):\n",
    "    events_id = {\n",
    "    \"Sleep stage W\": 1,\n",
    "    \"Sleep stage 1\": 2,\n",
    "    \"Sleep stage 2\": 3,\n",
    "    \"Sleep stage 3\": 4,\n",
    "    \"Sleep stage 4\": 5,\n",
    "    \"Sleep stage R\": 6}\n",
    "\n",
    "    event_signal = [None] * len(subjects) \n",
    "    for i in range(0, len(subjects)):\n",
    "        signal[i].plot(\n",
    "                start=60,\n",
    "                duration=60,\n",
    "                scalings=dict(eeg=1e-4, resp=1e3, eog=1e-4, emg=1e-7, misc=1e-1))\n",
    "\n",
    "        # janelas de 30 segundos e observar localização de  eventos temporalmente\n",
    "        annot[i].crop(annot[i][1][\"onset\"] - 30 * 60, annot[i][-2][\"onset\"] + 30 * 60)\n",
    "        signal[i].set_annotations(annot[i], emit_warning=False)\n",
    "\n",
    "        event_signal[i], _ = mne.events_from_annotations(\n",
    "        signal[i], event_id=events_id, chunk_duration=30.0)\n",
    "        \n",
    "        fig = mne.viz.plot_events(\n",
    "            event_signal[i],\n",
    "            event_id=events_id,\n",
    "            sfreq=signal[i].info[\"sfreq\"],\n",
    "            first_samp= event_signal[i][0, 0], on_missing=\"ignore\")\n",
    "       \n",
    "    return(event_signal)\n",
    "\n",
    "        \n",
    "        \n",
    "    "
   ]
  },
  {
   "cell_type": "code",
   "execution_count": null,
   "metadata": {},
   "outputs": [],
   "source": [
    "events_EEG_train = signal_representation(subjects_train,EEG_train, Annot_train)\n",
    "events_EEG_test = signal_representation(subjects_test,EEG_test, Annot_test)\n",
    "\n"
   ]
  },
  {
   "cell_type": "code",
   "execution_count": null,
   "metadata": {},
   "outputs": [],
   "source": [
    "events_EOG_train = signal_representation(subjects_train,EOG_train, Annot_train)\n",
    "events_EOG_test = signal_representation(subjects_test,EOG_test, Annot_test)"
   ]
  },
  {
   "cell_type": "code",
   "execution_count": null,
   "metadata": {},
   "outputs": [],
   "source": [
    "def signal_epochs(subjects,signal,event_signal ):\n",
    "    \n",
    "    events_id = {\n",
    "    \"Sleep stage W\": 1,\n",
    "    \"Sleep stage 1\": 2,\n",
    "    \"Sleep stage 2\": 3,\n",
    "    \"Sleep stage 3\": 4,\n",
    "    \"Sleep stage 4\": 5,\n",
    "    \"Sleep stage R\": 6}\n",
    "\n",
    "    epochs = [None] * len(subjects)\n",
    "\n",
    "    for i in range(0, len(subjects)):\n",
    "        tmax = 30.0 - 1.0 / signal[i].info[\"sfreq\"] \n",
    "\n",
    "        epochs[i] = mne.Epochs(\n",
    "            raw=signal[i],\n",
    "            events=event_signal[i],\n",
    "            event_id=events_id,\n",
    "            tmin=0.0,\n",
    "            tmax=tmax,\n",
    "            baseline=None, \n",
    "            on_missing = \"ignore\"\n",
    "        )\n",
    "    epochs = mne.concatenate_epochs(epochs)\n",
    "    return(epochs)\n"
   ]
  },
  {
   "cell_type": "code",
   "execution_count": null,
   "metadata": {},
   "outputs": [],
   "source": [
    "epoch_EEG_train = signal_epochs(subjects_train,EEG_train,events_EEG_train)\n",
    "epoch_EOG_train = signal_epochs(subjects_train,EOG_train,events_EOG_train)\n"
   ]
  },
  {
   "cell_type": "code",
   "execution_count": null,
   "metadata": {},
   "outputs": [],
   "source": [
    "epoch_EEG_test= signal_epochs(subjects_test,EEG_test,events_EEG_test)\n",
    "epoch_EOG_test = signal_epochs(subjects_test,EOG_test,events_EOG_test)"
   ]
  },
  {
   "cell_type": "markdown",
   "metadata": {},
   "source": [
    "**Exemplo: visualizar EEG com eventos marcado, 3 epochs**"
   ]
  },
  {
   "cell_type": "code",
   "execution_count": null,
   "metadata": {},
   "outputs": [],
   "source": [
    "def eeg_power_band(epochs):\n",
    "    \"\"\"EEG relative power band feature extraction.\n",
    "\n",
    "    This function takes an ``mne.Epochs`` object and creates EEG features based\n",
    "    on relative power in specific frequency bands that are compatible with\n",
    "    scikit-learn.\n",
    "\n",
    "    Parameters\n",
    "    ----------\n",
    "    epochs : Epochs\n",
    "        The data.\n",
    "\n",
    "    Returns\n",
    "    -------\n",
    "    X : numpy array of shape [n_samples, 5 * n_channels]\n",
    "        Transformed data.\n",
    "    \"\"\"\n",
    "    # specific frequency bands\n",
    "    FREQ_BANDS = {\n",
    "        \"delta\": [0.5, 4.5],\n",
    "        \"theta\": [4.5, 8.5],\n",
    "        \"alpha\": [8.5, 11.5],\n",
    "        \"sigma\": [11.5, 15.5],\n",
    "        \"beta\": [15.5, 30],\n",
    "    }\n",
    "\n",
    "    spectrum = epochs.compute_psd(picks=\"eeg\", fmin=0.5, fmax=30.0)\n",
    "    psds, freqs = spectrum.get_data(return_freqs=True)\n",
    "    # Normalize the PSDs\n",
    "    psds /= np.sum(psds, axis=-1, keepdims=True)\n",
    "\n",
    "    X = []\n",
    "    for fmin, fmax in FREQ_BANDS.values():\n",
    "        psds_band = psds[:, :, (freqs >= fmin) & (freqs < fmax)].mean(axis=-1)\n",
    "        X.append(psds_band.reshape(len(psds), -1))\n",
    "\n",
    "    return np.concatenate(X, axis=1)"
   ]
  },
  {
   "cell_type": "markdown",
   "metadata": {},
   "source": [
    "tentando com o random forest Classifier"
   ]
  },
  {
   "cell_type": "code",
   "execution_count": null,
   "metadata": {},
   "outputs": [],
   "source": [
    "pipe1 = make_pipeline(\n",
    "    FunctionTransformer(eeg_power_band, validate=False),\n",
    "    RandomForestClassifier(n_estimators=100, random_state=42),\n",
    ")\n",
    "\n"
   ]
  },
  {
   "cell_type": "code",
   "execution_count": null,
   "metadata": {},
   "outputs": [],
   "source": [
    "y_EEG_train = epoch_EEG_train.events[:,2]\n",
    "pipe1.fit(epoch_EEG_train, y_EEG_train)\n",
    "\n",
    "\n",
    "## eeg train merdas - colocar - em vez de fit, meter a fit transform"
   ]
  },
  {
   "cell_type": "code",
   "execution_count": null,
   "metadata": {},
   "outputs": [],
   "source": [
    "y_pred = pipe1.predict(epoch_EEG_test)\n",
    "y_test = epoch_EEG_test.events[:, 2]\n",
    "acc = accuracy_score(y_test, y_pred)\n",
    "print(acc)\n",
    "\n"
   ]
  }
 ],
 "metadata": {
  "kernelspec": {
   "display_name": "Python 3",
   "language": "python",
   "name": "python3"
  },
  "language_info": {
   "codemirror_mode": {
    "name": "ipython",
    "version": 3
   },
   "file_extension": ".py",
   "mimetype": "text/x-python",
   "name": "python",
   "nbconvert_exporter": "python",
   "pygments_lexer": "ipython3",
   "version": "3.9.0"
  },
  "orig_nbformat": 4
 },
 "nbformat": 4,
 "nbformat_minor": 2
}
